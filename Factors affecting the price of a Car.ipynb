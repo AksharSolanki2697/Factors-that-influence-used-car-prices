{
 "cells": [
  {
   "cell_type": "markdown",
   "metadata": {},
   "source": [
    "# What drives the price of a car?\n",
    "\n",
    "![](images/kurt.jpeg)"
   ]
  },
  {
   "cell_type": "markdown",
   "metadata": {},
   "source": [
    "**OVERVIEW**\n",
    "\n",
    "In this application, you will explore a dataset from kaggle. The original dataset contained information on 3 million used cars. The provided dataset contains information on 426K cars to ensure speed of processing.  Your goal is to understand what factors make a car more or less expensive.  As a result of your analysis, you should provide clear recommendations to your client -- a used car dealership -- as to what consumers value in a used car."
   ]
  },
  {
   "cell_type": "markdown",
   "metadata": {},
   "source": [
    "### CRISP-DM Framework\n",
    "\n",
    "<center>\n",
    "    <img src = images/crisp.png width = 50%/>\n",
    "</center>\n",
    "\n",
    "\n",
    "To frame the task, throughout our practical applications we will refer back to a standard process in industry for data projects called CRISP-DM.  This process provides a framework for working through a data problem.  Your first step in this application will be to read through a brief overview of CRISP-DM [here](https://mo-pcco.s3.us-east-1.amazonaws.com/BH-PCMLAI/module_11/readings_starter.zip).  After reading the overview, answer the questions below."
   ]
  },
  {
   "cell_type": "markdown",
   "metadata": {},
   "source": [
    "### Business Understanding\n",
    "\n",
    "From a business perspective, we are tasked with identifying key drivers for used car prices.  In the CRISP-DM overview, we are asked to convert this business framing to a data problem definition.  Using a few sentences, reframe the task as a data task with the appropriate technical vocabulary. "
   ]
  },
  {
   "cell_type": "code",
   "execution_count": null,
   "metadata": {},
   "outputs": [],
   "source": []
  },
  {
   "cell_type": "code",
   "execution_count": null,
   "metadata": {},
   "outputs": [],
   "source": []
  },
  {
   "cell_type": "code",
   "execution_count": null,
   "metadata": {},
   "outputs": [],
   "source": []
  },
  {
   "cell_type": "code",
   "execution_count": null,
   "metadata": {},
   "outputs": [],
   "source": []
  },
  {
   "cell_type": "markdown",
   "metadata": {},
   "source": [
    "### Data Understanding\n",
    "\n",
    "After considering the business understanding, we want to get familiar with our data.  Write down some steps that you would take to get to know the dataset and identify any quality issues within.  Take time to get to know the dataset and explore what information it contains and how this could be used to inform your business understanding."
   ]
  },
  {
   "cell_type": "code",
   "execution_count": 136,
   "metadata": {},
   "outputs": [],
   "source": [
    "import pandas as pd\n",
    "import numpy as np\n",
    "import time\n",
    "from tqdm import tqdm\n",
    "import matplotlib\n",
    "import matplotlib.pyplot as plt\n",
    "\n",
    "#libraries for preprocessing\n",
    "from sklearn import preprocessing\n",
    "from sklearn.preprocessing import StandardScaler\n",
    "from sklearn.preprocessing import MinMaxScaler\n",
    "\n",
    "#libraries for evaluation\n",
    "from sklearn.metrics import mean_squared_log_error,r2_score,mean_squared_error\n",
    "from sklearn.model_selection import train_test_split\n",
    "\n",
    "\n",
    "#libraries for models\n",
    "from sklearn.linear_model import LinearRegression\n",
    "\n",
    "from sklearn.linear_model import Ridge\n",
    "from sklearn.linear_model import LassoCV,RidgeCV\n",
    "from sklearn.model_selection import GridSearchCV\n",
    "\n",
    "from sklearn.linear_model import Lasso\n",
    "\n",
    "from sklearn.neighbors import KNeighborsRegressor\n",
    "\n",
    "from sklearn.ensemble import RandomForestRegressor\n",
    "\n",
    "from sklearn.ensemble import BaggingRegressor\n",
    "from sklearn.tree import DecisionTreeRegressor\n",
    "from sklearn.svm import SVR\n",
    "\n",
    "from sklearn.ensemble import AdaBoostRegressor\n",
    "\n",
    "\n",
    "\n",
    "\n",
    "from warnings import filterwarnings\n",
    "filterwarnings('ignore')"
   ]
  },
  {
   "cell_type": "code",
   "execution_count": 9,
   "metadata": {},
   "outputs": [],
   "source": [
    "#Read and save the used car vehicles CSV to a dataframe\n",
    "vehicles = pd.read_csv('data/vehicles.csv')"
   ]
  },
  {
   "cell_type": "code",
   "execution_count": 10,
   "metadata": {},
   "outputs": [
    {
     "data": {
      "text/html": [
       "<div>\n",
       "<style scoped>\n",
       "    .dataframe tbody tr th:only-of-type {\n",
       "        vertical-align: middle;\n",
       "    }\n",
       "\n",
       "    .dataframe tbody tr th {\n",
       "        vertical-align: top;\n",
       "    }\n",
       "\n",
       "    .dataframe thead th {\n",
       "        text-align: right;\n",
       "    }\n",
       "</style>\n",
       "<table border=\"1\" class=\"dataframe\">\n",
       "  <thead>\n",
       "    <tr style=\"text-align: right;\">\n",
       "      <th></th>\n",
       "      <th>id</th>\n",
       "      <th>region</th>\n",
       "      <th>price</th>\n",
       "      <th>year</th>\n",
       "      <th>manufacturer</th>\n",
       "      <th>model</th>\n",
       "      <th>condition</th>\n",
       "      <th>cylinders</th>\n",
       "      <th>fuel</th>\n",
       "      <th>odometer</th>\n",
       "      <th>title_status</th>\n",
       "      <th>transmission</th>\n",
       "      <th>VIN</th>\n",
       "      <th>drive</th>\n",
       "      <th>size</th>\n",
       "      <th>type</th>\n",
       "      <th>paint_color</th>\n",
       "      <th>state</th>\n",
       "    </tr>\n",
       "  </thead>\n",
       "  <tbody>\n",
       "    <tr>\n",
       "      <th>0</th>\n",
       "      <td>7222695916</td>\n",
       "      <td>prescott</td>\n",
       "      <td>6000</td>\n",
       "      <td>NaN</td>\n",
       "      <td>NaN</td>\n",
       "      <td>NaN</td>\n",
       "      <td>NaN</td>\n",
       "      <td>NaN</td>\n",
       "      <td>NaN</td>\n",
       "      <td>NaN</td>\n",
       "      <td>NaN</td>\n",
       "      <td>NaN</td>\n",
       "      <td>NaN</td>\n",
       "      <td>NaN</td>\n",
       "      <td>NaN</td>\n",
       "      <td>NaN</td>\n",
       "      <td>NaN</td>\n",
       "      <td>az</td>\n",
       "    </tr>\n",
       "    <tr>\n",
       "      <th>1</th>\n",
       "      <td>7218891961</td>\n",
       "      <td>fayetteville</td>\n",
       "      <td>11900</td>\n",
       "      <td>NaN</td>\n",
       "      <td>NaN</td>\n",
       "      <td>NaN</td>\n",
       "      <td>NaN</td>\n",
       "      <td>NaN</td>\n",
       "      <td>NaN</td>\n",
       "      <td>NaN</td>\n",
       "      <td>NaN</td>\n",
       "      <td>NaN</td>\n",
       "      <td>NaN</td>\n",
       "      <td>NaN</td>\n",
       "      <td>NaN</td>\n",
       "      <td>NaN</td>\n",
       "      <td>NaN</td>\n",
       "      <td>ar</td>\n",
       "    </tr>\n",
       "    <tr>\n",
       "      <th>2</th>\n",
       "      <td>7221797935</td>\n",
       "      <td>florida keys</td>\n",
       "      <td>21000</td>\n",
       "      <td>NaN</td>\n",
       "      <td>NaN</td>\n",
       "      <td>NaN</td>\n",
       "      <td>NaN</td>\n",
       "      <td>NaN</td>\n",
       "      <td>NaN</td>\n",
       "      <td>NaN</td>\n",
       "      <td>NaN</td>\n",
       "      <td>NaN</td>\n",
       "      <td>NaN</td>\n",
       "      <td>NaN</td>\n",
       "      <td>NaN</td>\n",
       "      <td>NaN</td>\n",
       "      <td>NaN</td>\n",
       "      <td>fl</td>\n",
       "    </tr>\n",
       "    <tr>\n",
       "      <th>3</th>\n",
       "      <td>7222270760</td>\n",
       "      <td>worcester / central MA</td>\n",
       "      <td>1500</td>\n",
       "      <td>NaN</td>\n",
       "      <td>NaN</td>\n",
       "      <td>NaN</td>\n",
       "      <td>NaN</td>\n",
       "      <td>NaN</td>\n",
       "      <td>NaN</td>\n",
       "      <td>NaN</td>\n",
       "      <td>NaN</td>\n",
       "      <td>NaN</td>\n",
       "      <td>NaN</td>\n",
       "      <td>NaN</td>\n",
       "      <td>NaN</td>\n",
       "      <td>NaN</td>\n",
       "      <td>NaN</td>\n",
       "      <td>ma</td>\n",
       "    </tr>\n",
       "    <tr>\n",
       "      <th>4</th>\n",
       "      <td>7210384030</td>\n",
       "      <td>greensboro</td>\n",
       "      <td>4900</td>\n",
       "      <td>NaN</td>\n",
       "      <td>NaN</td>\n",
       "      <td>NaN</td>\n",
       "      <td>NaN</td>\n",
       "      <td>NaN</td>\n",
       "      <td>NaN</td>\n",
       "      <td>NaN</td>\n",
       "      <td>NaN</td>\n",
       "      <td>NaN</td>\n",
       "      <td>NaN</td>\n",
       "      <td>NaN</td>\n",
       "      <td>NaN</td>\n",
       "      <td>NaN</td>\n",
       "      <td>NaN</td>\n",
       "      <td>nc</td>\n",
       "    </tr>\n",
       "    <tr>\n",
       "      <th>...</th>\n",
       "      <td>...</td>\n",
       "      <td>...</td>\n",
       "      <td>...</td>\n",
       "      <td>...</td>\n",
       "      <td>...</td>\n",
       "      <td>...</td>\n",
       "      <td>...</td>\n",
       "      <td>...</td>\n",
       "      <td>...</td>\n",
       "      <td>...</td>\n",
       "      <td>...</td>\n",
       "      <td>...</td>\n",
       "      <td>...</td>\n",
       "      <td>...</td>\n",
       "      <td>...</td>\n",
       "      <td>...</td>\n",
       "      <td>...</td>\n",
       "      <td>...</td>\n",
       "    </tr>\n",
       "    <tr>\n",
       "      <th>426875</th>\n",
       "      <td>7301591192</td>\n",
       "      <td>wyoming</td>\n",
       "      <td>23590</td>\n",
       "      <td>2019.0</td>\n",
       "      <td>nissan</td>\n",
       "      <td>maxima s sedan 4d</td>\n",
       "      <td>good</td>\n",
       "      <td>6 cylinders</td>\n",
       "      <td>gas</td>\n",
       "      <td>32226.0</td>\n",
       "      <td>clean</td>\n",
       "      <td>other</td>\n",
       "      <td>1N4AA6AV6KC367801</td>\n",
       "      <td>fwd</td>\n",
       "      <td>NaN</td>\n",
       "      <td>sedan</td>\n",
       "      <td>NaN</td>\n",
       "      <td>wy</td>\n",
       "    </tr>\n",
       "    <tr>\n",
       "      <th>426876</th>\n",
       "      <td>7301591187</td>\n",
       "      <td>wyoming</td>\n",
       "      <td>30590</td>\n",
       "      <td>2020.0</td>\n",
       "      <td>volvo</td>\n",
       "      <td>s60 t5 momentum sedan 4d</td>\n",
       "      <td>good</td>\n",
       "      <td>NaN</td>\n",
       "      <td>gas</td>\n",
       "      <td>12029.0</td>\n",
       "      <td>clean</td>\n",
       "      <td>other</td>\n",
       "      <td>7JR102FKXLG042696</td>\n",
       "      <td>fwd</td>\n",
       "      <td>NaN</td>\n",
       "      <td>sedan</td>\n",
       "      <td>red</td>\n",
       "      <td>wy</td>\n",
       "    </tr>\n",
       "    <tr>\n",
       "      <th>426877</th>\n",
       "      <td>7301591147</td>\n",
       "      <td>wyoming</td>\n",
       "      <td>34990</td>\n",
       "      <td>2020.0</td>\n",
       "      <td>cadillac</td>\n",
       "      <td>xt4 sport suv 4d</td>\n",
       "      <td>good</td>\n",
       "      <td>NaN</td>\n",
       "      <td>diesel</td>\n",
       "      <td>4174.0</td>\n",
       "      <td>clean</td>\n",
       "      <td>other</td>\n",
       "      <td>1GYFZFR46LF088296</td>\n",
       "      <td>NaN</td>\n",
       "      <td>NaN</td>\n",
       "      <td>hatchback</td>\n",
       "      <td>white</td>\n",
       "      <td>wy</td>\n",
       "    </tr>\n",
       "    <tr>\n",
       "      <th>426878</th>\n",
       "      <td>7301591140</td>\n",
       "      <td>wyoming</td>\n",
       "      <td>28990</td>\n",
       "      <td>2018.0</td>\n",
       "      <td>lexus</td>\n",
       "      <td>es 350 sedan 4d</td>\n",
       "      <td>good</td>\n",
       "      <td>6 cylinders</td>\n",
       "      <td>gas</td>\n",
       "      <td>30112.0</td>\n",
       "      <td>clean</td>\n",
       "      <td>other</td>\n",
       "      <td>58ABK1GG4JU103853</td>\n",
       "      <td>fwd</td>\n",
       "      <td>NaN</td>\n",
       "      <td>sedan</td>\n",
       "      <td>silver</td>\n",
       "      <td>wy</td>\n",
       "    </tr>\n",
       "    <tr>\n",
       "      <th>426879</th>\n",
       "      <td>7301591129</td>\n",
       "      <td>wyoming</td>\n",
       "      <td>30590</td>\n",
       "      <td>2019.0</td>\n",
       "      <td>bmw</td>\n",
       "      <td>4 series 430i gran coupe</td>\n",
       "      <td>good</td>\n",
       "      <td>NaN</td>\n",
       "      <td>gas</td>\n",
       "      <td>22716.0</td>\n",
       "      <td>clean</td>\n",
       "      <td>other</td>\n",
       "      <td>WBA4J1C58KBM14708</td>\n",
       "      <td>rwd</td>\n",
       "      <td>NaN</td>\n",
       "      <td>coupe</td>\n",
       "      <td>NaN</td>\n",
       "      <td>wy</td>\n",
       "    </tr>\n",
       "  </tbody>\n",
       "</table>\n",
       "<p>426880 rows × 18 columns</p>\n",
       "</div>"
      ],
      "text/plain": [
       "                id                  region  price    year manufacturer  \\\n",
       "0       7222695916                prescott   6000     NaN          NaN   \n",
       "1       7218891961            fayetteville  11900     NaN          NaN   \n",
       "2       7221797935            florida keys  21000     NaN          NaN   \n",
       "3       7222270760  worcester / central MA   1500     NaN          NaN   \n",
       "4       7210384030              greensboro   4900     NaN          NaN   \n",
       "...            ...                     ...    ...     ...          ...   \n",
       "426875  7301591192                 wyoming  23590  2019.0       nissan   \n",
       "426876  7301591187                 wyoming  30590  2020.0        volvo   \n",
       "426877  7301591147                 wyoming  34990  2020.0     cadillac   \n",
       "426878  7301591140                 wyoming  28990  2018.0        lexus   \n",
       "426879  7301591129                 wyoming  30590  2019.0          bmw   \n",
       "\n",
       "                           model condition    cylinders    fuel  odometer  \\\n",
       "0                            NaN       NaN          NaN     NaN       NaN   \n",
       "1                            NaN       NaN          NaN     NaN       NaN   \n",
       "2                            NaN       NaN          NaN     NaN       NaN   \n",
       "3                            NaN       NaN          NaN     NaN       NaN   \n",
       "4                            NaN       NaN          NaN     NaN       NaN   \n",
       "...                          ...       ...          ...     ...       ...   \n",
       "426875         maxima s sedan 4d      good  6 cylinders     gas   32226.0   \n",
       "426876  s60 t5 momentum sedan 4d      good          NaN     gas   12029.0   \n",
       "426877          xt4 sport suv 4d      good          NaN  diesel    4174.0   \n",
       "426878           es 350 sedan 4d      good  6 cylinders     gas   30112.0   \n",
       "426879  4 series 430i gran coupe      good          NaN     gas   22716.0   \n",
       "\n",
       "       title_status transmission                VIN drive size       type  \\\n",
       "0               NaN          NaN                NaN   NaN  NaN        NaN   \n",
       "1               NaN          NaN                NaN   NaN  NaN        NaN   \n",
       "2               NaN          NaN                NaN   NaN  NaN        NaN   \n",
       "3               NaN          NaN                NaN   NaN  NaN        NaN   \n",
       "4               NaN          NaN                NaN   NaN  NaN        NaN   \n",
       "...             ...          ...                ...   ...  ...        ...   \n",
       "426875        clean        other  1N4AA6AV6KC367801   fwd  NaN      sedan   \n",
       "426876        clean        other  7JR102FKXLG042696   fwd  NaN      sedan   \n",
       "426877        clean        other  1GYFZFR46LF088296   NaN  NaN  hatchback   \n",
       "426878        clean        other  58ABK1GG4JU103853   fwd  NaN      sedan   \n",
       "426879        clean        other  WBA4J1C58KBM14708   rwd  NaN      coupe   \n",
       "\n",
       "       paint_color state  \n",
       "0              NaN    az  \n",
       "1              NaN    ar  \n",
       "2              NaN    fl  \n",
       "3              NaN    ma  \n",
       "4              NaN    nc  \n",
       "...            ...   ...  \n",
       "426875         NaN    wy  \n",
       "426876         red    wy  \n",
       "426877       white    wy  \n",
       "426878      silver    wy  \n",
       "426879         NaN    wy  \n",
       "\n",
       "[426880 rows x 18 columns]"
      ]
     },
     "execution_count": 10,
     "metadata": {},
     "output_type": "execute_result"
    }
   ],
   "source": [
    "vehicles"
   ]
  },
  {
   "cell_type": "code",
   "execution_count": 11,
   "metadata": {},
   "outputs": [
    {
     "name": "stdout",
     "output_type": "stream",
     "text": [
      "<class 'pandas.core.frame.DataFrame'>\n",
      "RangeIndex: 426880 entries, 0 to 426879\n",
      "Data columns (total 18 columns):\n",
      " #   Column        Non-Null Count   Dtype  \n",
      "---  ------        --------------   -----  \n",
      " 0   id            426880 non-null  int64  \n",
      " 1   region        426880 non-null  object \n",
      " 2   price         426880 non-null  int64  \n",
      " 3   year          425675 non-null  float64\n",
      " 4   manufacturer  409234 non-null  object \n",
      " 5   model         421603 non-null  object \n",
      " 6   condition     252776 non-null  object \n",
      " 7   cylinders     249202 non-null  object \n",
      " 8   fuel          423867 non-null  object \n",
      " 9   odometer      422480 non-null  float64\n",
      " 10  title_status  418638 non-null  object \n",
      " 11  transmission  424324 non-null  object \n",
      " 12  VIN           265838 non-null  object \n",
      " 13  drive         296313 non-null  object \n",
      " 14  size          120519 non-null  object \n",
      " 15  type          334022 non-null  object \n",
      " 16  paint_color   296677 non-null  object \n",
      " 17  state         426880 non-null  object \n",
      "dtypes: float64(2), int64(2), object(14)\n",
      "memory usage: 58.6+ MB\n"
     ]
    }
   ],
   "source": [
    "vehicles.info()\n",
    "# Understanding attributes"
   ]
  },
  {
   "cell_type": "code",
   "execution_count": 12,
   "metadata": {},
   "outputs": [
    {
     "data": {
      "text/html": [
       "<div>\n",
       "<style scoped>\n",
       "    .dataframe tbody tr th:only-of-type {\n",
       "        vertical-align: middle;\n",
       "    }\n",
       "\n",
       "    .dataframe tbody tr th {\n",
       "        vertical-align: top;\n",
       "    }\n",
       "\n",
       "    .dataframe thead th {\n",
       "        text-align: right;\n",
       "    }\n",
       "</style>\n",
       "<table border=\"1\" class=\"dataframe\">\n",
       "  <thead>\n",
       "    <tr style=\"text-align: right;\">\n",
       "      <th></th>\n",
       "      <th>id</th>\n",
       "      <th>price</th>\n",
       "      <th>year</th>\n",
       "      <th>odometer</th>\n",
       "    </tr>\n",
       "  </thead>\n",
       "  <tbody>\n",
       "    <tr>\n",
       "      <th>count</th>\n",
       "      <td>4.268800e+05</td>\n",
       "      <td>4.268800e+05</td>\n",
       "      <td>425675.000000</td>\n",
       "      <td>4.224800e+05</td>\n",
       "    </tr>\n",
       "    <tr>\n",
       "      <th>mean</th>\n",
       "      <td>7.311487e+09</td>\n",
       "      <td>7.519903e+04</td>\n",
       "      <td>2011.235191</td>\n",
       "      <td>9.804333e+04</td>\n",
       "    </tr>\n",
       "    <tr>\n",
       "      <th>std</th>\n",
       "      <td>4.473170e+06</td>\n",
       "      <td>1.218228e+07</td>\n",
       "      <td>9.452120</td>\n",
       "      <td>2.138815e+05</td>\n",
       "    </tr>\n",
       "    <tr>\n",
       "      <th>min</th>\n",
       "      <td>7.207408e+09</td>\n",
       "      <td>0.000000e+00</td>\n",
       "      <td>1900.000000</td>\n",
       "      <td>0.000000e+00</td>\n",
       "    </tr>\n",
       "    <tr>\n",
       "      <th>25%</th>\n",
       "      <td>7.308143e+09</td>\n",
       "      <td>5.900000e+03</td>\n",
       "      <td>2008.000000</td>\n",
       "      <td>3.770400e+04</td>\n",
       "    </tr>\n",
       "    <tr>\n",
       "      <th>50%</th>\n",
       "      <td>7.312621e+09</td>\n",
       "      <td>1.395000e+04</td>\n",
       "      <td>2013.000000</td>\n",
       "      <td>8.554800e+04</td>\n",
       "    </tr>\n",
       "    <tr>\n",
       "      <th>75%</th>\n",
       "      <td>7.315254e+09</td>\n",
       "      <td>2.648575e+04</td>\n",
       "      <td>2017.000000</td>\n",
       "      <td>1.335425e+05</td>\n",
       "    </tr>\n",
       "    <tr>\n",
       "      <th>max</th>\n",
       "      <td>7.317101e+09</td>\n",
       "      <td>3.736929e+09</td>\n",
       "      <td>2022.000000</td>\n",
       "      <td>1.000000e+07</td>\n",
       "    </tr>\n",
       "  </tbody>\n",
       "</table>\n",
       "</div>"
      ],
      "text/plain": [
       "                 id         price           year      odometer\n",
       "count  4.268800e+05  4.268800e+05  425675.000000  4.224800e+05\n",
       "mean   7.311487e+09  7.519903e+04    2011.235191  9.804333e+04\n",
       "std    4.473170e+06  1.218228e+07       9.452120  2.138815e+05\n",
       "min    7.207408e+09  0.000000e+00    1900.000000  0.000000e+00\n",
       "25%    7.308143e+09  5.900000e+03    2008.000000  3.770400e+04\n",
       "50%    7.312621e+09  1.395000e+04    2013.000000  8.554800e+04\n",
       "75%    7.315254e+09  2.648575e+04    2017.000000  1.335425e+05\n",
       "max    7.317101e+09  3.736929e+09    2022.000000  1.000000e+07"
      ]
     },
     "execution_count": 12,
     "metadata": {},
     "output_type": "execute_result"
    }
   ],
   "source": [
    "vehicles.describe()\n",
    "# Understanding Numerical attributes"
   ]
  },
  {
   "cell_type": "code",
   "execution_count": 13,
   "metadata": {},
   "outputs": [
    {
     "data": {
      "text/plain": [
       "region               0\n",
       "price                0\n",
       "year              1205\n",
       "manufacturer     17646\n",
       "model             5277\n",
       "condition       174104\n",
       "cylinders       177678\n",
       "fuel              3013\n",
       "odometer          4400\n",
       "title_status      8242\n",
       "transmission      2556\n",
       "VIN             161042\n",
       "drive           130567\n",
       "size            306361\n",
       "type             92858\n",
       "paint_color     130203\n",
       "state                0\n",
       "dtype: int64"
      ]
     },
     "execution_count": 13,
     "metadata": {},
     "output_type": "execute_result"
    }
   ],
   "source": [
    "vehicles = vehicles.drop(['id'], axis=1)  # The 'id' attribute will not be used to determine the cost of the vehicle.\n",
    "vehicles.isnull().sum()"
   ]
  },
  {
   "cell_type": "markdown",
   "metadata": {},
   "source": [
    "## Types of Attributes \n",
    "\n",
    "Based on the initial analysis, following are the attributes available to us in the data. These attributes have been manipulated to create statistical models for inferring what factors contribute to teh price of a vehicle. \n",
    "\n",
    "#### Text-based Attributes\n",
    "- Manufacturer: Who built the vehicle (examples: Nissan, Volvo, Cadillac, etc.)\n",
    "- Model: Name of the model (eg: 'maxima s sedan 4d' , 's60 t5 momentum sedan 4d' etc.)\n",
    "- Condition: How the vehicle runs and whether any cosmetic damages ('good', 'excellent', 'fair', 'like new', etc.)\n",
    "- Cylinders: No of cylinders in the engine ('8 cylinders', '6 cylinders', '4 cylinders', '5 cylinders', etc.)\n",
    "- Fuel: Type of fuel ('gas', 'other', 'diesel', 'hybrid', 'electric', etc.)\n",
    "- Title Status: Accident information ('clean', 'rebuilt', 'lien', 'salvage', etc.)\n",
    "- Transmission: What transmission the car uses ('manual','automatic', etc.)\n",
    "- Drive: Whether the car is Rear-wheel drive or other types ('rwd', '4wd', 'fwd', etc.)\n",
    "- Size: Size of the Vehicle ('full-size', 'mid-size', 'compact', 'sub-compact', etc.)\n",
    "- Type: Vehicle Body Style ('pickup', 'truck', 'other', 'coupe', 'SUV', etc.)\n",
    "- Paint Color: Exterior color of the vehicle ('white','purple', 'red', etc.)\n",
    "\n",
    "#### Numerical Attribtues\n",
    "- Odometer: The amount of miles driven on the used vehicle [Min(0); Max(10000000.0); Mean(98043.33); Median(85548.0); std(213881.50)]\n",
    "- Price: The price of the vehicle [Min(0); Max(3736928711); Mean(75199.03); Median (13950.0); std(12182282.17)]\n",
    "\n",
    "#### Spatial Attributes\n",
    "- Region: Cities in the USA\n",
    "- State: States in the USA\n",
    "\n",
    "#### Temporal Attributes\n",
    "- Year: Vehicle Model Year (~1960-2022)"
   ]
  },
  {
   "cell_type": "code",
   "execution_count": 14,
   "metadata": {},
   "outputs": [
    {
     "data": {
      "text/plain": [
       "array([[<AxesSubplot:title={'center':'price'}>,\n",
       "        <AxesSubplot:title={'center':'year'}>],\n",
       "       [<AxesSubplot:title={'center':'odometer'}>, <AxesSubplot:>]],\n",
       "      dtype=object)"
      ]
     },
     "execution_count": 14,
     "metadata": {},
     "output_type": "execute_result"
    },
    {
     "data": {
      "image/png": "[encoded data removed]",
      "text/plain": [
       "<Figure size 648x360 with 4 Axes>"
      ]
     },
     "metadata": {
      "needs_background": "light"
     },
     "output_type": "display_data"
    }
   ],
   "source": [
    "vehicle_numerical_att = vehicles[['price','year','odometer']]\n",
    "vehicle_numerical_att.hist(bins=10, figsize=(9,5))"
   ]
  },
  {
   "cell_type": "code",
   "execution_count": 15,
   "metadata": {},
   "outputs": [
    {
     "data": {
      "text/plain": [
       "<AxesSubplot:xlabel='odometer', ylabel='year'>"
      ]
     },
     "execution_count": 15,
     "metadata": {},
     "output_type": "execute_result"
    },
    {
     "data": {
      "image/png": "[encoded data removed]",
      "text/plain": [
       "<Figure size 432x288 with 2 Axes>"
      ]
     },
     "metadata": {
      "needs_background": "light"
     },
     "output_type": "display_data"
    }
   ],
   "source": [
    "vehicle_numerical_att = vehicle_numerical_att.dropna(axis=0)\n",
    "vehicle_numerical_att.plot.scatter(x='odometer',y='year',c='price',\n",
    "                      colormap='viridis')"
   ]
  },
  {
   "cell_type": "code",
   "execution_count": 16,
   "metadata": {},
   "outputs": [
    {
     "data": {
      "text/plain": [
       "<AxesSubplot:xlabel='price', ylabel='year'>"
      ]
     },
     "execution_count": 16,
     "metadata": {},
     "output_type": "execute_result"
    },
    {
     "data": {
      "image/png": "[encoded data removed]",
      "text/plain": [
       "<Figure size 432x288 with 1 Axes>"
      ]
     },
     "metadata": {
      "needs_background": "light"
     },
     "output_type": "display_data"
    }
   ],
   "source": [
    "vehicle_numerical_att.plot.scatter(x='price',y='year')"
   ]
  },
  {
   "cell_type": "markdown",
   "metadata": {},
   "source": [
    "### Data Preparation\n",
    "\n",
    "After our initial exploration and fine tuning of the business understanding, it is time to construct our final dataset prior to modeling.  Here, we want to make sure to handle any integrity issues and cleaning, the engineering of new features, any transformations that we believe should happen (scaling, logarithms, normalization, etc.), and general preparation for modeling with `sklearn`. "
   ]
  },
  {
   "cell_type": "markdown",
   "metadata": {},
   "source": [
    "#### Step x: Changing Dtype Attributes"
   ]
  },
  {
   "cell_type": "code",
   "execution_count": 17,
   "metadata": {},
   "outputs": [
    {
     "data": {
      "text/html": [
       "<div>\n",
       "<style scoped>\n",
       "    .dataframe tbody tr th:only-of-type {\n",
       "        vertical-align: middle;\n",
       "    }\n",
       "\n",
       "    .dataframe tbody tr th {\n",
       "        vertical-align: top;\n",
       "    }\n",
       "\n",
       "    .dataframe thead th {\n",
       "        text-align: right;\n",
       "    }\n",
       "</style>\n",
       "<table border=\"1\" class=\"dataframe\">\n",
       "  <thead>\n",
       "    <tr style=\"text-align: right;\">\n",
       "      <th></th>\n",
       "      <th>region</th>\n",
       "      <th>price</th>\n",
       "      <th>year</th>\n",
       "      <th>manufacturer</th>\n",
       "      <th>model</th>\n",
       "      <th>condition</th>\n",
       "      <th>cylinders</th>\n",
       "      <th>fuel</th>\n",
       "      <th>odometer</th>\n",
       "      <th>title_status</th>\n",
       "      <th>transmission</th>\n",
       "      <th>VIN</th>\n",
       "      <th>drive</th>\n",
       "      <th>size</th>\n",
       "      <th>type</th>\n",
       "      <th>paint_color</th>\n",
       "      <th>state</th>\n",
       "    </tr>\n",
       "  </thead>\n",
       "  <tbody>\n",
       "    <tr>\n",
       "      <th>0</th>\n",
       "      <td>prescott</td>\n",
       "      <td>6000</td>\n",
       "      <td>&lt;NA&gt;</td>\n",
       "      <td>&lt;NA&gt;</td>\n",
       "      <td>&lt;NA&gt;</td>\n",
       "      <td>&lt;NA&gt;</td>\n",
       "      <td>&lt;NA&gt;</td>\n",
       "      <td>&lt;NA&gt;</td>\n",
       "      <td>&lt;NA&gt;</td>\n",
       "      <td>&lt;NA&gt;</td>\n",
       "      <td>&lt;NA&gt;</td>\n",
       "      <td>&lt;NA&gt;</td>\n",
       "      <td>&lt;NA&gt;</td>\n",
       "      <td>&lt;NA&gt;</td>\n",
       "      <td>&lt;NA&gt;</td>\n",
       "      <td>&lt;NA&gt;</td>\n",
       "      <td>az</td>\n",
       "    </tr>\n",
       "    <tr>\n",
       "      <th>1</th>\n",
       "      <td>fayetteville</td>\n",
       "      <td>11900</td>\n",
       "      <td>&lt;NA&gt;</td>\n",
       "      <td>&lt;NA&gt;</td>\n",
       "      <td>&lt;NA&gt;</td>\n",
       "      <td>&lt;NA&gt;</td>\n",
       "      <td>&lt;NA&gt;</td>\n",
       "      <td>&lt;NA&gt;</td>\n",
       "      <td>&lt;NA&gt;</td>\n",
       "      <td>&lt;NA&gt;</td>\n",
       "      <td>&lt;NA&gt;</td>\n",
       "      <td>&lt;NA&gt;</td>\n",
       "      <td>&lt;NA&gt;</td>\n",
       "      <td>&lt;NA&gt;</td>\n",
       "      <td>&lt;NA&gt;</td>\n",
       "      <td>&lt;NA&gt;</td>\n",
       "      <td>ar</td>\n",
       "    </tr>\n",
       "    <tr>\n",
       "      <th>2</th>\n",
       "      <td>florida keys</td>\n",
       "      <td>21000</td>\n",
       "      <td>&lt;NA&gt;</td>\n",
       "      <td>&lt;NA&gt;</td>\n",
       "      <td>&lt;NA&gt;</td>\n",
       "      <td>&lt;NA&gt;</td>\n",
       "      <td>&lt;NA&gt;</td>\n",
       "      <td>&lt;NA&gt;</td>\n",
       "      <td>&lt;NA&gt;</td>\n",
       "      <td>&lt;NA&gt;</td>\n",
       "      <td>&lt;NA&gt;</td>\n",
       "      <td>&lt;NA&gt;</td>\n",
       "      <td>&lt;NA&gt;</td>\n",
       "      <td>&lt;NA&gt;</td>\n",
       "      <td>&lt;NA&gt;</td>\n",
       "      <td>&lt;NA&gt;</td>\n",
       "      <td>fl</td>\n",
       "    </tr>\n",
       "    <tr>\n",
       "      <th>3</th>\n",
       "      <td>worcester / central MA</td>\n",
       "      <td>1500</td>\n",
       "      <td>&lt;NA&gt;</td>\n",
       "      <td>&lt;NA&gt;</td>\n",
       "      <td>&lt;NA&gt;</td>\n",
       "      <td>&lt;NA&gt;</td>\n",
       "      <td>&lt;NA&gt;</td>\n",
       "      <td>&lt;NA&gt;</td>\n",
       "      <td>&lt;NA&gt;</td>\n",
       "      <td>&lt;NA&gt;</td>\n",
       "      <td>&lt;NA&gt;</td>\n",
       "      <td>&lt;NA&gt;</td>\n",
       "      <td>&lt;NA&gt;</td>\n",
       "      <td>&lt;NA&gt;</td>\n",
       "      <td>&lt;NA&gt;</td>\n",
       "      <td>&lt;NA&gt;</td>\n",
       "      <td>ma</td>\n",
       "    </tr>\n",
       "    <tr>\n",
       "      <th>4</th>\n",
       "      <td>greensboro</td>\n",
       "      <td>4900</td>\n",
       "      <td>&lt;NA&gt;</td>\n",
       "      <td>&lt;NA&gt;</td>\n",
       "      <td>&lt;NA&gt;</td>\n",
       "      <td>&lt;NA&gt;</td>\n",
       "      <td>&lt;NA&gt;</td>\n",
       "      <td>&lt;NA&gt;</td>\n",
       "      <td>&lt;NA&gt;</td>\n",
       "      <td>&lt;NA&gt;</td>\n",
       "      <td>&lt;NA&gt;</td>\n",
       "      <td>&lt;NA&gt;</td>\n",
       "      <td>&lt;NA&gt;</td>\n",
       "      <td>&lt;NA&gt;</td>\n",
       "      <td>&lt;NA&gt;</td>\n",
       "      <td>&lt;NA&gt;</td>\n",
       "      <td>nc</td>\n",
       "    </tr>\n",
       "    <tr>\n",
       "      <th>...</th>\n",
       "      <td>...</td>\n",
       "      <td>...</td>\n",
       "      <td>...</td>\n",
       "      <td>...</td>\n",
       "      <td>...</td>\n",
       "      <td>...</td>\n",
       "      <td>...</td>\n",
       "      <td>...</td>\n",
       "      <td>...</td>\n",
       "      <td>...</td>\n",
       "      <td>...</td>\n",
       "      <td>...</td>\n",
       "      <td>...</td>\n",
       "      <td>...</td>\n",
       "      <td>...</td>\n",
       "      <td>...</td>\n",
       "      <td>...</td>\n",
       "    </tr>\n",
       "    <tr>\n",
       "      <th>426875</th>\n",
       "      <td>wyoming</td>\n",
       "      <td>23590</td>\n",
       "      <td>2019</td>\n",
       "      <td>nissan</td>\n",
       "      <td>maxima s sedan 4d</td>\n",
       "      <td>good</td>\n",
       "      <td>6 cylinders</td>\n",
       "      <td>gas</td>\n",
       "      <td>32226</td>\n",
       "      <td>clean</td>\n",
       "      <td>other</td>\n",
       "      <td>1N4AA6AV6KC367801</td>\n",
       "      <td>fwd</td>\n",
       "      <td>&lt;NA&gt;</td>\n",
       "      <td>sedan</td>\n",
       "      <td>&lt;NA&gt;</td>\n",
       "      <td>wy</td>\n",
       "    </tr>\n",
       "    <tr>\n",
       "      <th>426876</th>\n",
       "      <td>wyoming</td>\n",
       "      <td>30590</td>\n",
       "      <td>2020</td>\n",
       "      <td>volvo</td>\n",
       "      <td>s60 t5 momentum sedan 4d</td>\n",
       "      <td>good</td>\n",
       "      <td>&lt;NA&gt;</td>\n",
       "      <td>gas</td>\n",
       "      <td>12029</td>\n",
       "      <td>clean</td>\n",
       "      <td>other</td>\n",
       "      <td>7JR102FKXLG042696</td>\n",
       "      <td>fwd</td>\n",
       "      <td>&lt;NA&gt;</td>\n",
       "      <td>sedan</td>\n",
       "      <td>red</td>\n",
       "      <td>wy</td>\n",
       "    </tr>\n",
       "    <tr>\n",
       "      <th>426877</th>\n",
       "      <td>wyoming</td>\n",
       "      <td>34990</td>\n",
       "      <td>2020</td>\n",
       "      <td>cadillac</td>\n",
       "      <td>xt4 sport suv 4d</td>\n",
       "      <td>good</td>\n",
       "      <td>&lt;NA&gt;</td>\n",
       "      <td>diesel</td>\n",
       "      <td>4174</td>\n",
       "      <td>clean</td>\n",
       "      <td>other</td>\n",
       "      <td>1GYFZFR46LF088296</td>\n",
       "      <td>&lt;NA&gt;</td>\n",
       "      <td>&lt;NA&gt;</td>\n",
       "      <td>hatchback</td>\n",
       "      <td>white</td>\n",
       "      <td>wy</td>\n",
       "    </tr>\n",
       "    <tr>\n",
       "      <th>426878</th>\n",
       "      <td>wyoming</td>\n",
       "      <td>28990</td>\n",
       "      <td>2018</td>\n",
       "      <td>lexus</td>\n",
       "      <td>es 350 sedan 4d</td>\n",
       "      <td>good</td>\n",
       "      <td>6 cylinders</td>\n",
       "      <td>gas</td>\n",
       "      <td>30112</td>\n",
       "      <td>clean</td>\n",
       "      <td>other</td>\n",
       "      <td>58ABK1GG4JU103853</td>\n",
       "      <td>fwd</td>\n",
       "      <td>&lt;NA&gt;</td>\n",
       "      <td>sedan</td>\n",
       "      <td>silver</td>\n",
       "      <td>wy</td>\n",
       "    </tr>\n",
       "    <tr>\n",
       "      <th>426879</th>\n",
       "      <td>wyoming</td>\n",
       "      <td>30590</td>\n",
       "      <td>2019</td>\n",
       "      <td>bmw</td>\n",
       "      <td>4 series 430i gran coupe</td>\n",
       "      <td>good</td>\n",
       "      <td>&lt;NA&gt;</td>\n",
       "      <td>gas</td>\n",
       "      <td>22716</td>\n",
       "      <td>clean</td>\n",
       "      <td>other</td>\n",
       "      <td>WBA4J1C58KBM14708</td>\n",
       "      <td>rwd</td>\n",
       "      <td>&lt;NA&gt;</td>\n",
       "      <td>coupe</td>\n",
       "      <td>&lt;NA&gt;</td>\n",
       "      <td>wy</td>\n",
       "    </tr>\n",
       "  </tbody>\n",
       "</table>\n",
       "<p>426880 rows × 17 columns</p>\n",
       "</div>"
      ],
      "text/plain": [
       "                        region  price  year manufacturer  \\\n",
       "0                     prescott   6000  <NA>         <NA>   \n",
       "1                 fayetteville  11900  <NA>         <NA>   \n",
       "2                 florida keys  21000  <NA>         <NA>   \n",
       "3       worcester / central MA   1500  <NA>         <NA>   \n",
       "4                   greensboro   4900  <NA>         <NA>   \n",
       "...                        ...    ...   ...          ...   \n",
       "426875                 wyoming  23590  2019       nissan   \n",
       "426876                 wyoming  30590  2020        volvo   \n",
       "426877                 wyoming  34990  2020     cadillac   \n",
       "426878                 wyoming  28990  2018        lexus   \n",
       "426879                 wyoming  30590  2019          bmw   \n",
       "\n",
       "                           model condition    cylinders    fuel  odometer  \\\n",
       "0                           <NA>      <NA>         <NA>    <NA>      <NA>   \n",
       "1                           <NA>      <NA>         <NA>    <NA>      <NA>   \n",
       "2                           <NA>      <NA>         <NA>    <NA>      <NA>   \n",
       "3                           <NA>      <NA>         <NA>    <NA>      <NA>   \n",
       "4                           <NA>      <NA>         <NA>    <NA>      <NA>   \n",
       "...                          ...       ...          ...     ...       ...   \n",
       "426875         maxima s sedan 4d      good  6 cylinders     gas     32226   \n",
       "426876  s60 t5 momentum sedan 4d      good         <NA>     gas     12029   \n",
       "426877          xt4 sport suv 4d      good         <NA>  diesel      4174   \n",
       "426878           es 350 sedan 4d      good  6 cylinders     gas     30112   \n",
       "426879  4 series 430i gran coupe      good         <NA>     gas     22716   \n",
       "\n",
       "       title_status transmission                VIN drive  size       type  \\\n",
       "0              <NA>         <NA>               <NA>  <NA>  <NA>       <NA>   \n",
       "1              <NA>         <NA>               <NA>  <NA>  <NA>       <NA>   \n",
       "2              <NA>         <NA>               <NA>  <NA>  <NA>       <NA>   \n",
       "3              <NA>         <NA>               <NA>  <NA>  <NA>       <NA>   \n",
       "4              <NA>         <NA>               <NA>  <NA>  <NA>       <NA>   \n",
       "...             ...          ...                ...   ...   ...        ...   \n",
       "426875        clean        other  1N4AA6AV6KC367801   fwd  <NA>      sedan   \n",
       "426876        clean        other  7JR102FKXLG042696   fwd  <NA>      sedan   \n",
       "426877        clean        other  1GYFZFR46LF088296  <NA>  <NA>  hatchback   \n",
       "426878        clean        other  58ABK1GG4JU103853   fwd  <NA>      sedan   \n",
       "426879        clean        other  WBA4J1C58KBM14708   rwd  <NA>      coupe   \n",
       "\n",
       "       paint_color state  \n",
       "0             <NA>    az  \n",
       "1             <NA>    ar  \n",
       "2             <NA>    fl  \n",
       "3             <NA>    ma  \n",
       "4             <NA>    nc  \n",
       "...            ...   ...  \n",
       "426875        <NA>    wy  \n",
       "426876         red    wy  \n",
       "426877       white    wy  \n",
       "426878      silver    wy  \n",
       "426879        <NA>    wy  \n",
       "\n",
       "[426880 rows x 17 columns]"
      ]
     },
     "execution_count": 17,
     "metadata": {},
     "output_type": "execute_result"
    }
   ],
   "source": [
    "# vehicles.info()\n",
    "vehicles_cleaned = vehicles.convert_dtypes()\n",
    "vehicles_cleaned"
   ]
  },
  {
   "cell_type": "code",
   "execution_count": 18,
   "metadata": {},
   "outputs": [
    {
     "name": "stdout",
     "output_type": "stream",
     "text": [
      "<class 'pandas.core.frame.DataFrame'>\n",
      "RangeIndex: 426880 entries, 0 to 426879\n",
      "Data columns (total 17 columns):\n",
      " #   Column        Non-Null Count   Dtype \n",
      "---  ------        --------------   ----- \n",
      " 0   region        426880 non-null  string\n",
      " 1   price         426880 non-null  Int64 \n",
      " 2   year          425675 non-null  Int64 \n",
      " 3   manufacturer  409234 non-null  string\n",
      " 4   model         421603 non-null  string\n",
      " 5   condition     252776 non-null  string\n",
      " 6   cylinders     249202 non-null  string\n",
      " 7   fuel          423867 non-null  string\n",
      " 8   odometer      422480 non-null  Int64 \n",
      " 9   title_status  418638 non-null  string\n",
      " 10  transmission  424324 non-null  string\n",
      " 11  VIN           265838 non-null  string\n",
      " 12  drive         296313 non-null  string\n",
      " 13  size          120519 non-null  string\n",
      " 14  type          334022 non-null  string\n",
      " 15  paint_color   296677 non-null  string\n",
      " 16  state         426880 non-null  string\n",
      "dtypes: Int64(3), string(14)\n",
      "memory usage: 56.6 MB\n"
     ]
    }
   ],
   "source": [
    "vehicles_cleaned.info()"
   ]
  },
  {
   "cell_type": "markdown",
   "metadata": {},
   "source": [
    "#### Step x: Convert attributes to Categorical / Numerical "
   ]
  },
  {
   "cell_type": "code",
   "execution_count": 19,
   "metadata": {},
   "outputs": [
    {
     "name": "stdout",
     "output_type": "stream",
     "text": [
      "<StringArray>\n",
      "[          <NA>,  '8 cylinders',  '6 cylinders',  '4 cylinders',\n",
      "  '5 cylinders',        'other',  '3 cylinders', '10 cylinders',\n",
      " '12 cylinders']\n",
      "Length: 9, dtype: string\n",
      "<StringArray>\n",
      "[<NA>, 'other', 'automatic', 'manual']\n",
      "Length: 4, dtype: string\n",
      "<StringArray>\n",
      "[<NA>, 'rwd', '4wd', 'fwd']\n",
      "Length: 4, dtype: string\n",
      "<StringArray>\n",
      "[<NA>, 'gas', 'other', 'diesel', 'hybrid', 'electric']\n",
      "Length: 6, dtype: string\n",
      "<StringArray>\n",
      "[         <NA>,      'pickup',       'truck',       'other',       'coupe',\n",
      "         'SUV',   'hatchback',    'mini-van',       'sedan',     'offroad',\n",
      "         'bus',         'van', 'convertible',       'wagon']\n",
      "Length: 14, dtype: string\n",
      "<StringArray>\n",
      "[<NA>, 'clean', 'rebuilt', 'lien', 'salvage', 'missing', 'parts only']\n",
      "Length: 7, dtype: string\n",
      "<StringArray>\n",
      "[<NA>, 'full-size', 'mid-size', 'compact', 'sub-compact']\n",
      "Length: 5, dtype: string\n"
     ]
    }
   ],
   "source": [
    "#  All the following attributes can be converted to numerical or categorical.\n",
    "print(vehicles_cleaned['cylinders'].unique())\n",
    "print(vehicles_cleaned['transmission'].unique())\n",
    "print(vehicles_cleaned['drive'].unique())\n",
    "print(vehicles_cleaned['fuel'].unique())\n",
    "print(vehicles_cleaned['type'].unique())\n",
    "print(vehicles_cleaned['title_status'].unique())\n",
    "print(vehicles_cleaned['size'].unique())\n"
   ]
  },
  {
   "cell_type": "code",
   "execution_count": 20,
   "metadata": {},
   "outputs": [
    {
     "data": {
      "text/plain": [
       "0     178976\n",
       "6      94169\n",
       "4      77642\n",
       "8      72062\n",
       "5       1712\n",
       "10      1455\n",
       "3        655\n",
       "12       209\n",
       "Name: cylinders, dtype: int64"
      ]
     },
     "execution_count": 20,
     "metadata": {},
     "output_type": "execute_result"
    }
   ],
   "source": [
    "# Cylinders \n",
    "vehicles_cleaned['cylinders'] = vehicles_cleaned['cylinders'].str.replace(r' cylinders','')\n",
    "vehicles_cleaned['cylinders'] = vehicles_cleaned['cylinders'].str.replace(r'other','0')\n",
    "vehicles_cleaned[['cylinders']] = vehicles_cleaned[['cylinders']].fillna('0')\n",
    "vehicles_cleaned.cylinders = vehicles_cleaned.cylinders.astype(np.int64)\n",
    "vehicles_cleaned['cylinders'].value_counts()"
   ]
  },
  {
   "cell_type": "code",
   "execution_count": 21,
   "metadata": {},
   "outputs": [
    {
     "data": {
      "text/plain": [
       "1    336524\n",
       "0     65238\n",
       "2     25118\n",
       "Name: transmission, dtype: int64"
      ]
     },
     "execution_count": 21,
     "metadata": {},
     "output_type": "execute_result"
    }
   ],
   "source": [
    "# Transmission\n",
    "vehicles_cleaned['transmission'] = vehicles_cleaned['transmission'].str.replace(r'other','0')\n",
    "vehicles_cleaned['transmission'] = vehicles_cleaned['transmission'].str.replace(r'automatic','1')\n",
    "vehicles_cleaned['transmission'] = vehicles_cleaned['transmission'].str.replace(r'manual','2')\n",
    "vehicles_cleaned[['transmission']] = vehicles_cleaned[['transmission']].fillna('0')\n",
    "vehicles_cleaned.transmission = vehicles_cleaned.transmission.astype(np.int64)\n",
    "vehicles_cleaned['transmission'].value_counts()"
   ]
  },
  {
   "cell_type": "code",
   "execution_count": 22,
   "metadata": {},
   "outputs": [
    {
     "data": {
      "text/plain": [
       "1    131904\n",
       "0    130567\n",
       "2    105517\n",
       "3     58892\n",
       "Name: drive, dtype: int64"
      ]
     },
     "execution_count": 22,
     "metadata": {},
     "output_type": "execute_result"
    }
   ],
   "source": [
    "# Drive\n",
    "vehicles_cleaned['drive'] = vehicles_cleaned['drive'].str.replace(r'4wd','1')\n",
    "vehicles_cleaned['drive'] = vehicles_cleaned['drive'].str.replace(r'fwd','2')\n",
    "vehicles_cleaned['drive'] = vehicles_cleaned['drive'].str.replace(r'rwd','3')\n",
    "vehicles_cleaned[['drive']] = vehicles_cleaned[['drive']].fillna('0')\n",
    "vehicles_cleaned.drive = vehicles_cleaned.drive.astype(np.int64)\n",
    "vehicles_cleaned['drive'].value_counts()"
   ]
  },
  {
   "cell_type": "markdown",
   "metadata": {},
   "source": [
    "#### Step x: Handling NULL/ NA values"
   ]
  },
  {
   "cell_type": "code",
   "execution_count": 23,
   "metadata": {},
   "outputs": [
    {
     "data": {
      "text/plain": [
       "gas         356209\n",
       "other        33741\n",
       "diesel       30062\n",
       "hybrid        5170\n",
       "electric      1698\n",
       "Name: fuel, dtype: Int64"
      ]
     },
     "execution_count": 23,
     "metadata": {},
     "output_type": "execute_result"
    }
   ],
   "source": [
    "vehicles_cleaned[['fuel']] = vehicles_cleaned[['fuel']].fillna('other')\n",
    "vehicles_cleaned['fuel'].value_counts()"
   ]
  },
  {
   "cell_type": "code",
   "execution_count": 24,
   "metadata": {},
   "outputs": [
    {
     "data": {
      "text/plain": [
       "other          114968\n",
       "sedan           87056\n",
       "SUV             77284\n",
       "pickup          43510\n",
       "truck           35279\n",
       "coupe           19204\n",
       "hatchback       16598\n",
       "wagon           10751\n",
       "van              8548\n",
       "convertible      7731\n",
       "mini-van         4825\n",
       "offroad           609\n",
       "bus               517\n",
       "Name: type, dtype: Int64"
      ]
     },
     "execution_count": 24,
     "metadata": {},
     "output_type": "execute_result"
    }
   ],
   "source": [
    "vehicles_cleaned[['type']] = vehicles_cleaned[['type']].fillna('other')\n",
    "vehicles_cleaned['type'].value_counts()"
   ]
  },
  {
   "cell_type": "code",
   "execution_count": 25,
   "metadata": {},
   "outputs": [
    {
     "data": {
      "text/plain": [
       "f-150                                      8009\n",
       "Other                                      5362\n",
       "silverado 1500                             5140\n",
       "1500                                       4211\n",
       "camry                                      3135\n",
       "                                           ... \n",
       "mustang gt 350                                1\n",
       "sierra 3500hd denali duramax                  1\n",
       "328 m sport xdrive                            1\n",
       "pickup laramie                                1\n",
       "mx 3 i *fr $399 down guaranteed finance       1\n",
       "Name: model, Length: 29648, dtype: Int64"
      ]
     },
     "execution_count": 25,
     "metadata": {},
     "output_type": "execute_result"
    }
   ],
   "source": [
    "vehicles_cleaned[['model']] = vehicles_cleaned[['model']].fillna('Other')\n",
    "vehicles_cleaned.loc[(vehicles_cleaned.model=='♿'),'model'] = 'other'\n",
    "vehicles_cleaned['model'].value_counts()"
   ]
  },
  {
   "cell_type": "code",
   "execution_count": 26,
   "metadata": {},
   "outputs": [
    {
     "data": {
      "text/plain": [
       "clean         405117\n",
       "missing         9056\n",
       "rebuilt         7219\n",
       "salvage         3868\n",
       "lien            1422\n",
       "parts only       198\n",
       "Name: title_status, dtype: Int64"
      ]
     },
     "execution_count": 26,
     "metadata": {},
     "output_type": "execute_result"
    }
   ],
   "source": [
    "vehicles_cleaned[['title_status']] = vehicles_cleaned[['title_status']].fillna('missing')\n",
    "vehicles_cleaned.loc[(vehicles_cleaned.title_status=='other'), 'title_status'] = 'missing'\n",
    "vehicles_cleaned['title_status'].value_counts()"
   ]
  },
  {
   "cell_type": "code",
   "execution_count": 27,
   "metadata": {},
   "outputs": [
    {
     "data": {
      "text/plain": [
       "other     136903\n",
       "white      79285\n",
       "black      62861\n",
       "silver     42970\n",
       "blue       31223\n",
       "red        30473\n",
       "grey       24416\n",
       "green       7343\n",
       "brown       6593\n",
       "yellow      2142\n",
       "orange      1984\n",
       "purple       687\n",
       "Name: paint_color, dtype: Int64"
      ]
     },
     "execution_count": 27,
     "metadata": {},
     "output_type": "execute_result"
    }
   ],
   "source": [
    "vehicles_cleaned[['paint_color']] = vehicles_cleaned[['paint_color']].fillna('other')\n",
    "vehicles_cleaned.loc[(vehicles_cleaned.paint_color==('custom')) | (vehicles_cleaned.paint_color==('missing')),'paint_color'] = 'other'\n",
    "vehicles_cleaned['paint_color'].value_counts()"
   ]
  },
  {
   "cell_type": "code",
   "execution_count": 28,
   "metadata": {},
   "outputs": [
    {
     "data": {
      "text/plain": [
       "missing        306361\n",
       "full-size       63465\n",
       "mid-size        34476\n",
       "compact         19384\n",
       "sub-compact      3194\n",
       "Name: size, dtype: Int64"
      ]
     },
     "execution_count": 28,
     "metadata": {},
     "output_type": "execute_result"
    }
   ],
   "source": [
    "vehicles_cleaned[['size']] = vehicles_cleaned[['size']].fillna('missing')\n",
    "vehicles_cleaned['size'].value_counts()"
   ]
  },
  {
   "cell_type": "code",
   "execution_count": 29,
   "metadata": {},
   "outputs": [
    {
     "data": {
      "text/plain": [
       "region               0\n",
       "price                0\n",
       "year              1205\n",
       "manufacturer     17646\n",
       "model                0\n",
       "condition       174104\n",
       "cylinders            0\n",
       "fuel                 0\n",
       "odometer          4400\n",
       "title_status         0\n",
       "transmission         0\n",
       "VIN             161042\n",
       "drive                0\n",
       "size                 0\n",
       "type                 0\n",
       "paint_color          0\n",
       "state                0\n",
       "dtype: int64"
      ]
     },
     "execution_count": 29,
     "metadata": {},
     "output_type": "execute_result"
    }
   ],
   "source": [
    "vehicles_cleaned.isnull().sum()"
   ]
  },
  {
   "cell_type": "markdown",
   "metadata": {},
   "source": [
    "#### Step x: Removing Outliers"
   ]
  },
  {
   "cell_type": "code",
   "execution_count": 30,
   "metadata": {},
   "outputs": [],
   "source": [
    "# Reducing The huge variance in numerical attributes\n",
    "first_quartile = vehicles_cleaned['price'].quantile(.25)\n",
    "third_quartile = vehicles_cleaned['price'].quantile(.75)\n",
    "iqr = third_quartile - first_quartile \n",
    "lower = first_quartile - 1.5*iqr\n",
    "upper = third_quartile + 1.5*iqr\n",
    "vehicles_cleaned = vehicles_cleaned.loc[(vehicles_cleaned['price']>lower) & (vehicles_cleaned['price']<upper)]\n",
    "\n",
    "first_quartile = vehicles_cleaned['odometer'].quantile(.25)\n",
    "third_quartile = vehicles_cleaned['odometer'].quantile(.75)\n",
    "iqr = third_quartile - first_quartile \n",
    "lower = first_quartile - 1.5*iqr\n",
    "upper = third_quartile + 1.5*iqr\n",
    "vehicles_cleaned = vehicles_cleaned.loc[(vehicles_cleaned['odometer']>lower) & (vehicles_cleaned['odometer']<upper)]\n",
    "\n",
    "first_quartile = vehicles_cleaned['year'].quantile(.25)\n",
    "third_quartile = vehicles_cleaned['year'].quantile(.75)\n",
    "iqr = third_quartile - first_quartile \n",
    "lower = first_quartile - 1.5*iqr\n",
    "upper = third_quartile + 1.5*iqr\n",
    "vehicles_cleaned = vehicles_cleaned.loc[(vehicles_cleaned['year']>lower) & (vehicles_cleaned['year']<upper)]"
   ]
  },
  {
   "cell_type": "code",
   "execution_count": 31,
   "metadata": {},
   "outputs": [
    {
     "data": {
      "text/plain": [
       "region               0\n",
       "price                0\n",
       "year                 0\n",
       "manufacturer     12345\n",
       "model                0\n",
       "condition       159841\n",
       "cylinders            0\n",
       "fuel                 0\n",
       "odometer             0\n",
       "title_status         0\n",
       "transmission         0\n",
       "VIN             141377\n",
       "drive                0\n",
       "size                 0\n",
       "type                 0\n",
       "paint_color          0\n",
       "state                0\n",
       "dtype: int64"
      ]
     },
     "execution_count": 31,
     "metadata": {},
     "output_type": "execute_result"
    }
   ],
   "source": [
    "vehicles_cleaned.isnull().sum()"
   ]
  },
  {
   "cell_type": "code",
   "execution_count": 45,
   "metadata": {},
   "outputs": [],
   "source": [
    "vehicles_cleaned.loc[((vehicles_cleaned.condition.isnull()) & (vehicles_cleaned.title_status=='salvage') &\n",
    "                         ((vehicles_cleaned.price>=0) & (vehicles_cleaned.price<=500))), 'condition'] = 'salvage'\n",
    "vehicles_cleaned.loc[((vehicles_cleaned.condition.isnull()) & (vehicles_cleaned.title_status=='missing') &\n",
    "                         ((vehicles_cleaned.price>=0)&(vehicles_cleaned.price<=500))), 'condition'] = 'salvage'\n",
    "vehicles_cleaned.loc[((vehicles_cleaned.condition.isnull()) & (vehicles_cleaned.title_status=='missing') &\n",
    "                         ((vehicles_cleaned.price>=501)&(vehicles_cleaned.price<=2000))), 'condition'] = 'fair'\n",
    "vehicles_cleaned.loc[((vehicles_cleaned.condition.isnull()) & (vehicles_cleaned.title_status=='missing') &\n",
    "                         ((vehicles_cleaned.price>=2001)&(vehicles_cleaned.price<=13495))), 'condition'] = 'good'\n",
    "vehicles_cleaned.loc[((vehicles_cleaned.condition.isnull()) & (vehicles_cleaned.title_status=='missing') &\n",
    "                         ((vehicles_cleaned.price>=13496)&(vehicles_cleaned.price<=25000))), 'condition'] = 'excellent'\n",
    "vehicles_cleaned.loc[((vehicles_cleaned.condition.isnull()) & (vehicles_cleaned.title_status=='missing') &\n",
    "                         ((vehicles_cleaned.price>=25001)&(vehicles_cleaned.price<=40000))), 'condition'] = 'like new'\n",
    "vehicles_cleaned.loc[((vehicles_cleaned.condition.isnull()) & (vehicles_cleaned.title_status=='missing') &\n",
    "                         (vehicles_cleaned.price>40000)), 'condition'] = 'new'\n",
    "vehicles_cleaned.loc[((vehicles_cleaned.condition.isnull()) & \n",
    "                         ((vehicles_cleaned.price>=0)&(vehicles_cleaned.price<=2000))), 'condition'] = 'salvage'\n",
    "vehicles_cleaned.loc[((vehicles_cleaned.condition.isnull()) & \n",
    "                         ((vehicles_cleaned.price>=2001)&(vehicles_cleaned.price<=5000))), 'condition'] = 'fair'\n",
    "vehicles_cleaned.loc[((vehicles_cleaned.condition.isnull()) & \n",
    "                         ((vehicles_cleaned.price>=5001)&(vehicles_cleaned.price<=13495))), 'condition'] = 'good'\n",
    "vehicles_cleaned.loc[((vehicles_cleaned.condition.isnull()) & \n",
    "                         ((vehicles_cleaned.price>=13496)&(vehicles_cleaned.price<=25000))), 'condition'] = 'excellent'\n",
    "vehicles_cleaned.loc[((vehicles_cleaned.condition.isnull()) & \n",
    "                         ((vehicles_cleaned.price>=25001)&(vehicles_cleaned.price<=40000))), 'condition'] = 'like new'\n",
    "vehicles_cleaned.loc[((vehicles_cleaned.condition.isnull()) & (vehicles_cleaned.price>40000)), 'condition'] = 'new'"
   ]
  },
  {
   "cell_type": "markdown",
   "metadata": {},
   "source": [
    "#### Visualizations / Graphs"
   ]
  },
  {
   "cell_type": "code",
   "execution_count": 79,
   "metadata": {},
   "outputs": [],
   "source": [
    "vehicles_cleaned = vehicles_cleaned.drop(columns='VIN')\n",
    "final_data = vehicles_cleaned.copy()"
   ]
  },
  {
   "cell_type": "code",
   "execution_count": null,
   "metadata": {},
   "outputs": [],
   "source": []
  },
  {
   "cell_type": "code",
   "execution_count": 42,
   "metadata": {},
   "outputs": [
    {
     "data": {
      "text/plain": [
       "Text(0.5, 1.0, 'Count of used cars over the years')"
      ]
     },
     "execution_count": 42,
     "metadata": {},
     "output_type": "execute_result"
    },
    {
     "data": {
      "image/png": "[encoded data removed]",
      "text/plain": [
       "<Figure size 1800x360 with 1 Axes>"
      ]
     },
     "metadata": {
      "needs_background": "light"
     },
     "output_type": "display_data"
    }
   ],
   "source": [
    "from matplotlib import rcParams\n",
    "rcParams['figure.figsize'] = 25,5\n",
    "sns.countplot(data=final_data, x='year',palette='rocket')\n",
    "plt.title('Count of used cars over the years')"
   ]
  },
  {
   "cell_type": "code",
   "execution_count": 35,
   "metadata": {},
   "outputs": [
    {
     "data": {
      "text/plain": [
       "Text(0.5, 1.0, 'Price of used cars over the years')"
      ]
     },
     "execution_count": 35,
     "metadata": {},
     "output_type": "execute_result"
    },
    {
     "data": {
      "image/png": "[encoded data removed]",
      "text/plain": [
       "<Figure size 1800x720 with 1 Axes>"
      ]
     },
     "metadata": {
      "needs_background": "light"
     },
     "output_type": "display_data"
    }
   ],
   "source": [
    "from matplotlib import rcParams\n",
    "rcParams['figure.figsize'] = 25,10\n",
    "sns.barplot(data=final_data, x='year', y='price', palette='rocket')\n",
    "plt.title('Price of used cars over the years')"
   ]
  },
  {
   "cell_type": "code",
   "execution_count": 36,
   "metadata": {},
   "outputs": [
    {
     "data": {
      "text/plain": [
       "Text(0.5, 1.0, 'Usage of Cars over the years')"
      ]
     },
     "execution_count": 36,
     "metadata": {},
     "output_type": "execute_result"
    },
    {
     "data": {
      "image/png": "[encoded data removed]",
      "text/plain": [
       "<Figure size 1800x360 with 1 Axes>"
      ]
     },
     "metadata": {
      "needs_background": "light"
     },
     "output_type": "display_data"
    }
   ],
   "source": [
    "rcParams['figure.figsize'] = 25,5\n",
    "sns.barplot(data=final_data, x='year',y='odometer' ,palette='rocket')\n",
    "plt.title('Usage of Cars over the years')"
   ]
  },
  {
   "cell_type": "code",
   "execution_count": 37,
   "metadata": {},
   "outputs": [
    {
     "data": {
      "text/plain": [
       "Text(0.5, 1.0, 'Price of Cars per Manufacturer')"
      ]
     },
     "execution_count": 37,
     "metadata": {},
     "output_type": "execute_result"
    },
    {
     "data": {
      "image/png": "[encoded data removed]",
      "text/plain": [
       "<Figure size 1800x360 with 1 Axes>"
      ]
     },
     "metadata": {
      "needs_background": "light"
     },
     "output_type": "display_data"
    }
   ],
   "source": [
    "rcParams['figure.figsize'] = 25,5\n",
    "sns.barplot(data=final_data, x='manufacturer',y='price' ,palette='rocket')\n",
    "plt.xticks(rotation=45)\n",
    "plt.title('Price of Cars per Manufacturer')"
   ]
  },
  {
   "cell_type": "code",
   "execution_count": 38,
   "metadata": {},
   "outputs": [
    {
     "data": {
      "text/plain": [
       "Text(0.5, 1.0, 'Fuel type of used cars and price impact')"
      ]
     },
     "execution_count": 38,
     "metadata": {},
     "output_type": "execute_result"
    },
    {
     "data": {
      "image/png": "[encoded data removed]",
      "text/plain": [
       "<Figure size 1440x360 with 1 Axes>"
      ]
     },
     "metadata": {
      "needs_background": "light"
     },
     "output_type": "display_data"
    }
   ],
   "source": [
    "#Fuel type of used cars and its impact to price\n",
    "rcParams['figure.figsize'] = 20,5\n",
    "sns.barplot(data=final_data, x='fuel', y='price', palette='rocket')\n",
    "plt.xticks(rotation=45)\n",
    "plt.title('Fuel type of used cars and price impact')"
   ]
  },
  {
   "cell_type": "code",
   "execution_count": 44,
   "metadata": {},
   "outputs": [
    {
     "data": {
      "text/plain": [
       "<AxesSubplot:xlabel='price', ylabel='Density'>"
      ]
     },
     "execution_count": 44,
     "metadata": {},
     "output_type": "execute_result"
    },
    {
     "data": {
      "image/png": "[encoded data removed]",
      "text/plain": [
       "<Figure size 1800x360 with 1 Axes>"
      ]
     },
     "metadata": {
      "needs_background": "light"
     },
     "output_type": "display_data"
    }
   ],
   "source": [
    "sns.distplot(final_data.price)"
   ]
  },
  {
   "cell_type": "markdown",
   "metadata": {},
   "source": [
    "### Modeling\n",
    "\n",
    "With your (almost?) final dataset in hand, it is now time to build some models.  Here, you should build a number of different regression models with the price as the target.  In building your models, you should explore different parameters and be sure to cross-validate your findings."
   ]
  },
  {
   "cell_type": "markdown",
   "metadata": {},
   "source": [
    "#### Encoding"
   ]
  },
  {
   "cell_type": "code",
   "execution_count": 88,
   "metadata": {},
   "outputs": [],
   "source": [
    "numeric_col = ['price', 'year', 'cylinders', 'transmission', 'drive', 'odometer']\n",
    "categorical_col = ['region', 'model', 'condition', 'fuel', 'title_status', 'size', 'type', 'paint_color', 'state']"
   ]
  },
  {
   "cell_type": "code",
   "execution_count": 89,
   "metadata": {},
   "outputs": [
    {
     "data": {
      "text/plain": [
       "region              0\n",
       "price               0\n",
       "year                0\n",
       "manufacturer    12345\n",
       "model               0\n",
       "condition           0\n",
       "cylinders           0\n",
       "fuel                0\n",
       "odometer            0\n",
       "title_status        0\n",
       "transmission        0\n",
       "drive               0\n",
       "size                0\n",
       "type                0\n",
       "paint_color         0\n",
       "state               0\n",
       "dtype: int64"
      ]
     },
     "execution_count": 89,
     "metadata": {},
     "output_type": "execute_result"
    }
   ],
   "source": [
    "vehicles_cleaned.isnull().sum()"
   ]
  },
  {
   "cell_type": "code",
   "execution_count": 94,
   "metadata": {},
   "outputs": [
    {
     "name": "stdout",
     "output_type": "stream",
     "text": [
      "<class 'pandas.core.frame.DataFrame'>\n",
      "Int64Index: 347852 entries, 27 to 426879\n",
      "Data columns (total 16 columns):\n",
      " #   Column        Non-Null Count   Dtype  \n",
      "---  ------        --------------   -----  \n",
      " 0   region        347852 non-null  int64  \n",
      " 1   price         347852 non-null  float64\n",
      " 2   year          347852 non-null  float64\n",
      " 3   manufacturer  337857 non-null  string \n",
      " 4   model         347852 non-null  int64  \n",
      " 5   condition     347852 non-null  int64  \n",
      " 6   cylinders     347852 non-null  int64  \n",
      " 7   fuel          347852 non-null  int64  \n",
      " 8   odometer      347852 non-null  float64\n",
      " 9   title_status  347852 non-null  int64  \n",
      " 10  transmission  347852 non-null  int64  \n",
      " 11  drive         347852 non-null  int64  \n",
      " 12  size          347852 non-null  int64  \n",
      " 13  type          347852 non-null  int64  \n",
      " 14  paint_color   347852 non-null  int64  \n",
      " 15  state         347852 non-null  string \n",
      "dtypes: float64(3), int64(11), string(2)\n",
      "memory usage: 45.1 MB\n"
     ]
    }
   ],
   "source": [
    "label_encoder = preprocessing.LabelEncoder()\n",
    "final_data[cat_cols]=final_data[cat_cols].apply(label_encoder.fit_transform)\n",
    "\n",
    "final_data.info()"
   ]
  },
  {
   "cell_type": "code",
   "execution_count": 95,
   "metadata": {},
   "outputs": [],
   "source": [
    "final_data = final_data.drop(columns=['state','manufacturer'])"
   ]
  },
  {
   "cell_type": "markdown",
   "metadata": {},
   "source": [
    "#### Scaling"
   ]
  },
  {
   "cell_type": "code",
   "execution_count": 96,
   "metadata": {},
   "outputs": [],
   "source": [
    "norm = StandardScaler()\n",
    "final_data['price'] = np.log(final_data['price'])\n",
    "final_data['odometer'] = norm.fit_transform(np.array(final_data['odometer']).reshape(-1,1))\n",
    "final_data['year'] = norm.fit_transform(np.array(final_data['year']).reshape(-1,1))\n",
    "final_data['model'] = norm.fit_transform(np.array(final_data['model']).reshape(-1,1))\n",
    "\n",
    "#scaling target variable\n",
    "q1,q3=(final_data['price'].quantile([0.25,0.75]))\n",
    "o1=q1-1.5*(q3-q1)\n",
    "o2=q3+1.5*(q3-q1)\n",
    "final_data=final_data[(final_data.price>=o1) & (final_data.price<=o2)]\n",
    "\n",
    "final_data['region'] = norm.fit_transform(np.array(final_data['region']).reshape(-1,1))"
   ]
  },
  {
   "cell_type": "markdown",
   "metadata": {},
   "source": [
    "#### Helper Functions"
   ]
  },
  {
   "cell_type": "code",
   "execution_count": 117,
   "metadata": {},
   "outputs": [
    {
     "name": "stdout",
     "output_type": "stream",
     "text": [
      "<class 'pandas.core.frame.DataFrame'> <class 'pandas.core.series.Series'>\n"
     ]
    }
   ],
   "source": [
    "X = final_data.drop(columns='price', axis=1)\n",
    "y = final_data['price']\n",
    "print(type(X), type(y))\n",
    "X_train, X_test, y_train, y_test = train_test_split(X, y, test_size=0.3, random_state=256)"
   ]
  },
  {
   "cell_type": "code",
   "execution_count": 141,
   "metadata": {},
   "outputs": [],
   "source": [
    "def remove_negatives(y_test,y_pred):\n",
    "    ind=[index for index in range(len(y_pred)) if(y_pred[index]>0)]\n",
    "    y_pred=y_pred[ind]\n",
    "    y_test=y_test[ind]\n",
    "    y_pred[y_pred<0]\n",
    "    return (y_test,y_pred)\n",
    "\n",
    "#function for evaluation of model\n",
    "def get_results(y_test,y_pred):\n",
    "    results=[]\n",
    "    results.append(mean_squared_log_error(y_test, y_pred))\n",
    "    results.append(np.sqrt(results[0]))\n",
    "    results.append(r2_score(y_test,y_pred))\n",
    "    results.append(round(r2_score(y_test,y_pred)*100,4))\n",
    "    return (results)\n",
    "\n",
    "final_results=[]"
   ]
  },
  {
   "cell_type": "markdown",
   "metadata": {},
   "source": [
    "#### Training Models"
   ]
  },
  {
   "cell_type": "code",
   "execution_count": null,
   "metadata": {},
   "outputs": [],
   "source": []
  },
  {
   "cell_type": "code",
   "execution_count": 169,
   "metadata": {},
   "outputs": [
    {
     "name": "stdout",
     "output_type": "stream",
     "text": [
      "LinearReg MSE: 0.0001786251912641226\n",
      "LinearReg RMSE: 0.01336507355999669\n",
      "LinearReg R2 Score: 57.99992427184784\n"
     ]
    },
    {
     "data": {
      "text/plain": [
       "Text(0.5, 0, 'X_train Values')"
      ]
     },
     "execution_count": 169,
     "metadata": {},
     "output_type": "execute_result"
    },
    {
     "data": {
      "image/png": "[encoded data removed]",
      "text/plain": [
       "<Figure size 432x432 with 1 Axes>"
      ]
     },
     "metadata": {
      "needs_background": "light"
     },
     "output_type": "display_data"
    }
   ],
   "source": [
    "linear_regression = LinearRegression()\n",
    "linear_regression.fit(X_train, y_train)\n",
    "y_pred = linear_regression.predict(X_test)\n",
    "linreg_results = get_results(y_test, y_pred)\n",
    "print(f'Linear Regression MSE: {linreg_results[0]}')\n",
    "print(f'Linear Regression RMSE: {linreg_results[1]}')\n",
    "print(f'Linear Regression R2 Score: {linreg_results[2]*100}')\n",
    "\n",
    "final_results.append({'Model_name': 'Linear Regression', 'MSE': linreg_results[0], 'RMSE': linreg_results[1], 'R2 Score': linreg_results[2]*100})\n",
    "\n",
    "linreg_coeffs = pd.Series(linreg.coef_, index=X_train.columns)\n",
    "linreg_coeffs.plot(kind='bar')\n",
    "plt.title('Linear Regression Coefficients')\n",
    "plt.xlabel('X_train Values')"
   ]
  },
  {
   "cell_type": "code",
   "execution_count": null,
   "metadata": {},
   "outputs": [],
   "source": []
  },
  {
   "cell_type": "code",
   "execution_count": 170,
   "metadata": {},
   "outputs": [
    {
     "name": "stdout",
     "output_type": "stream",
     "text": [
      "Lasso Grid MSE: 0.0001821880447894458\n",
      "Lasso Grid RMSE: 0.013497705167525544\n",
      "Lasso Grid R2 Score: 57.17088011593279\n",
      "Best alpha: 0.001\n"
     ]
    },
    {
     "data": {
      "text/plain": [
       "Text(0.5, 0, 'X_train Values')"
      ]
     },
     "execution_count": 170,
     "metadata": {},
     "output_type": "execute_result"
    },
    {
     "data": {
      "image/png": "[encoded data removed]",
      "text/plain": [
       "<Figure size 432x432 with 1 Axes>"
      ]
     },
     "metadata": {
      "needs_background": "light"
     },
     "output_type": "display_data"
    }
   ],
   "source": [
    "# Lasso Regression\n",
    "\n",
    "param_dict = {'alpha': [0.001, 0.1, 1.0, 10.0, 100.0]}\n",
    "lasso_grid = GridSearchCV(Lasso(), param_grid=param_dict, scoring='neg_mean_squared_error', cv=5)\n",
    "lasso_grid.fit(X_train, y_train)\n",
    "y_pred2 = lasso_grid.predict(X_test)\n",
    "lasso_grid_results = get_results(y_test, y_pred2)\n",
    "print(f'Lasso MSE: {lasso_grid_results[0]}')\n",
    "print(f'Lasso RMSE: {lasso_grid_results[1]}')\n",
    "print(f'Lasso R2 Score: {lasso_grid_results[2]*100}')\n",
    "\n",
    "lasso_best_alpha = lasso_grid.best_params_\n",
    "print(f'Best alpha: {list(lasso_best_alpha.values())[0]}')\n",
    "\n",
    "final_results.append({'Model_name': 'Lasso Regression', 'MSE': lasso_grid_results[0], 'RMSE': lasso_grid_results[1], 'R2 Score': lasso_grid_results[2]*100})\n",
    "\n",
    "lassoreg = Lasso(alpha=0.001).fit(X_train, y_train)\n",
    "lassoreg_coeffs = pd.Series(lassoreg.coef_, index=X_train.columns)\n",
    "lassoreg_coeffs.plot(kind='bar')\n",
    "plt.title('Lasso Regression Coefficients')\n",
    "plt.xlabel('X_train Values')"
   ]
  },
  {
   "cell_type": "code",
   "execution_count": 171,
   "metadata": {},
   "outputs": [
    {
     "name": "stdout",
     "output_type": "stream",
     "text": [
      "Ridge Grid MSE: 0.0001786252947221173\n",
      "Ridge Grid RMSE: 0.013365077430457234\n",
      "Ridge Grid R2 Score: 57.999911458596245\n",
      "Best alpha: 10.0\n"
     ]
    },
    {
     "data": {
      "text/plain": [
       "Text(0.5, 0, 'X_train Values')"
      ]
     },
     "execution_count": 171,
     "metadata": {},
     "output_type": "execute_result"
    },
    {
     "data": {
      "image/png": "[encoded data removed]",
      "text/plain": [
       "<Figure size 432x432 with 1 Axes>"
      ]
     },
     "metadata": {
      "needs_background": "light"
     },
     "output_type": "display_data"
    }
   ],
   "source": [
    "# Ridge Regression\n",
    "param_dict = {'alpha': [0.001, 0.1, 1.0, 10.0, 100.0]}\n",
    "ridge_grid = GridSearchCV(Ridge(), param_grid=param_dict, scoring='neg_mean_squared_error', cv=5)\n",
    "ridge_grid.fit(X_train, y_train)\n",
    "y_pred1 = ridge_grid.predict(X_test)\n",
    "ridge_grid_results = get_results(y_test, y_pred1)\n",
    "print(f'Ridge MSE: {ridge_grid_results[0]}')\n",
    "print(f'Ridge RMSE: {ridge_grid_results[1]}')\n",
    "print(f'Ridge R2 Score: {ridge_grid_results[2]*100}')\n",
    "\n",
    "ridge_best_alpha = ridge_grid.best_params_\n",
    "print(f'Best alpha: {list(ridge_best_alpha.values())[0]}')\n",
    "\n",
    "final_results.append({'Model_name': 'Ridge Regression', 'MSE': ridge_grid_results[0], 'RMSE': ridge_grid_results[1], 'R2 Score': ridge_grid_results[2]*100})\n",
    "\n",
    "ridgereg = Ridge(alpha=10.0).fit(X_train, y_train)\n",
    "ridgereg_coeffs = pd.Series(ridgereg.coef_, index=X_train.columns)\n",
    "ridgereg_coeffs.plot(kind='bar')\n",
    "plt.title('Ridge Regression Coefficients')\n",
    "plt.xlabel('X_train Values')"
   ]
  },
  {
   "cell_type": "code",
   "execution_count": null,
   "metadata": {},
   "outputs": [],
   "source": []
  },
  {
   "cell_type": "code",
   "execution_count": 174,
   "metadata": {},
   "outputs": [
    {
     "name": "stdout",
     "output_type": "stream",
     "text": [
      "KNN MSE: 7.618346463552377e-05\n",
      "KNN RMSE: 0.008728313962932575\n",
      "KNN R2 Score: 82.27577915993989\n"
     ]
    }
   ],
   "source": [
    "#  KNN Regressor\n",
    "\n",
    "from sklearn.neighbors import KNeighborsRegressor\n",
    "\n",
    "# mses=[]\n",
    "# for i in range(1,10):\n",
    "#     KNN=KNeighborsRegressor(n_neighbors=i)\n",
    "#     KNN.fit(X_train,y_train)\n",
    "#     y_pred=KNN.predict(X_test)\n",
    "#     results=np.sqrt(mean_squared_error(y_test, y_pred))\n",
    "#     mses.append(results)\n",
    "# print(mses)\n",
    "\n",
    "# Finding best k=6 using the code above.\n",
    "KNN=KNeighborsRegressor(n_neighbors=6)\n",
    "KNN.fit(X_train,y_train)\n",
    "y_pred3=KNN.predict(X_test)\n",
    "KNN_results = get_results(y_test, y_pred3)\n",
    "print(f'KNN MSE: {KNN_results[0]}')\n",
    "print(f'KNN RMSE: {KNN_results[1]}')\n",
    "print(f'KNN R2 Score: {KNN_results[2]*100}')\n",
    "\n",
    "final_results.append({'Model_name': 'KNN Regression', 'MSE': KNN_results[0], 'RMSE': KNN_results[1], 'R2 Score': KNN_results[2]*100})"
   ]
  },
  {
   "cell_type": "code",
   "execution_count": null,
   "metadata": {},
   "outputs": [],
   "source": []
  },
  {
   "cell_type": "markdown",
   "metadata": {},
   "source": [
    "### Evaluation\n",
    "\n",
    "With some modeling accomplished, we aim to reflect on what we identify as a high quality model and what we are able to learn from this.  We should review our business objective and explore how well we can provide meaningful insight on drivers of used car prices.  Your goal now is to distill your findings and determine whether the earlier phases need revisitation and adjustment or if you have information of value to bring back to your client."
   ]
  },
  {
   "cell_type": "code",
   "execution_count": 173,
   "metadata": {},
   "outputs": [
    {
     "data": {
      "text/html": [
       "<div>\n",
       "<style scoped>\n",
       "    .dataframe tbody tr th:only-of-type {\n",
       "        vertical-align: middle;\n",
       "    }\n",
       "\n",
       "    .dataframe tbody tr th {\n",
       "        vertical-align: top;\n",
       "    }\n",
       "\n",
       "    .dataframe thead th {\n",
       "        text-align: right;\n",
       "    }\n",
       "</style>\n",
       "<table border=\"1\" class=\"dataframe\">\n",
       "  <thead>\n",
       "    <tr style=\"text-align: right;\">\n",
       "      <th></th>\n",
       "      <th>Model_name</th>\n",
       "      <th>MSE</th>\n",
       "      <th>RMSE</th>\n",
       "      <th>R2 Score</th>\n",
       "    </tr>\n",
       "  </thead>\n",
       "  <tbody>\n",
       "    <tr>\n",
       "      <th>0</th>\n",
       "      <td>Linear Regression</td>\n",
       "      <td>0.000179</td>\n",
       "      <td>0.013365</td>\n",
       "      <td>57.999924</td>\n",
       "    </tr>\n",
       "    <tr>\n",
       "      <th>1</th>\n",
       "      <td>Lasso Regression</td>\n",
       "      <td>0.000182</td>\n",
       "      <td>0.013498</td>\n",
       "      <td>57.170880</td>\n",
       "    </tr>\n",
       "    <tr>\n",
       "      <th>2</th>\n",
       "      <td>Ridge Regression</td>\n",
       "      <td>0.000179</td>\n",
       "      <td>0.013365</td>\n",
       "      <td>57.999911</td>\n",
       "    </tr>\n",
       "    <tr>\n",
       "      <th>3</th>\n",
       "      <td>KNN Regression</td>\n",
       "      <td>0.000081</td>\n",
       "      <td>0.008996</td>\n",
       "      <td>81.184521</td>\n",
       "    </tr>\n",
       "  </tbody>\n",
       "</table>\n",
       "</div>"
      ],
      "text/plain": [
       "          Model_name       MSE      RMSE   R2 Score\n",
       "0  Linear Regression  0.000179  0.013365  57.999924\n",
       "1   Lasso Regression  0.000182  0.013498  57.170880\n",
       "2   Ridge Regression  0.000179  0.013365  57.999911\n",
       "3     KNN Regression  0.000081  0.008996  81.184521"
      ]
     },
     "execution_count": 173,
     "metadata": {},
     "output_type": "execute_result"
    }
   ],
   "source": [
    "results =pd.DataFrame(final_results)\n",
    "results"
   ]
  },
  {
   "cell_type": "code",
   "execution_count": null,
   "metadata": {},
   "outputs": [],
   "source": []
  },
  {
   "cell_type": "code",
   "execution_count": null,
   "metadata": {},
   "outputs": [],
   "source": []
  },
  {
   "cell_type": "code",
   "execution_count": null,
   "metadata": {},
   "outputs": [],
   "source": []
  },
  {
   "cell_type": "code",
   "execution_count": null,
   "metadata": {},
   "outputs": [],
   "source": []
  },
  {
   "cell_type": "code",
   "execution_count": null,
   "metadata": {},
   "outputs": [],
   "source": []
  },
  {
   "cell_type": "markdown",
   "metadata": {},
   "source": [
    "### Deployment\n",
    "\n",
    "Now that we've settled on our models and findings, it is time to deliver the information to the client.  You should organize your work as a basic report that details your primary findings.  Keep in mind that your audience is a group of used car dealers interested in fine tuning their inventory."
   ]
  },
  {
   "cell_type": "code",
   "execution_count": null,
   "metadata": {},
   "outputs": [],
   "source": []
  },
  {
   "cell_type": "code",
   "execution_count": null,
   "metadata": {},
   "outputs": [],
   "source": []
  },
  {
   "cell_type": "code",
   "execution_count": null,
   "metadata": {},
   "outputs": [],
   "source": []
  },
  {
   "cell_type": "code",
   "execution_count": null,
   "metadata": {},
   "outputs": [],
   "source": []
  },
  {
   "cell_type": "code",
   "execution_count": null,
   "metadata": {},
   "outputs": [],
   "source": []
  },
  {
   "cell_type": "code",
   "execution_count": null,
   "metadata": {},
   "outputs": [],
   "source": []
  },
  {
   "cell_type": "code",
   "execution_count": null,
   "metadata": {},
   "outputs": [],
   "source": []
  }
 ],
 "metadata": {
  "kernelspec": {
   "display_name": "Python 3",
   "language": "python",
   "name": "python3"
  },
  "language_info": {
   "codemirror_mode": {
    "name": "ipython",
    "version": 3
   },
   "file_extension": ".py",
   "mimetype": "text/x-python",
   "name": "python",
   "nbconvert_exporter": "python",
   "pygments_lexer": "ipython3",
   "version": "3.8.5"
  },
  "widgets": {
   "application/vnd.jupyter.widget-state+json": {
    "state": {},
    "version_major": 2,
    "version_minor": 0
   }
  }
 },
 "nbformat": 4,
 "nbformat_minor": 4
}
